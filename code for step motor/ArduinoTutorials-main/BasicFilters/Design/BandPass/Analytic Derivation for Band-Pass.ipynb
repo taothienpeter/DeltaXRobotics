{
 "cells": [
  {
   "cell_type": "code",
   "execution_count": 2,
   "id": "4332923b",
   "metadata": {},
   "outputs": [],
   "source": [
    "import numpy as np"
   ]
  },
  {
   "cell_type": "markdown",
   "id": "b97efa53",
   "metadata": {},
   "source": [
    "## Second order band-pass filter\n",
    "\n",
    "### Continuous transfer function\n",
    "The prototype low-pass filter transfer function with $\\omega_0 = 1$ rad/s is\n",
    "$$H(s) = \\frac{1}{s + 1}$$\n",
    "To derive the band-pass filter, use the band-pass transformation (refer to https://en.wikipedia.org/wiki/Prototype_filter):\n",
    "$$s \\rightarrow  Q\\left(\\frac{s}{\\omega_0} + \\frac{\\omega_0}{s} \\right)$$ with $$Q = \\dfrac{\\omega_0}{\\Delta \\omega}$$\n",
    "where $\\omega_0$ is the center of the band, and $\\Delta \\omega$ is the \"width\" of the band.\n",
    "\n",
    "So\n",
    "\\begin{align*}\n",
    "H(s) &= \\frac{1}{ Q\\left(\\frac{s}{\\omega_0} + \\frac{\\omega_0}{s} \\right) + 1} \\\\\n",
    "&= \\frac{\\omega_0 s}{ Q \\left( s^2 + \\omega_0^2 \\right) + \\omega_0 s} \\\\\n",
    "&= \\frac{(\\omega_0/Q) s}{ s^2 + (\\omega_0/Q) s + \\omega_0^2} \n",
    "\\end{align*}"
   ]
  },
  {
   "cell_type": "markdown",
   "id": "317546a9",
   "metadata": {},
   "source": [
    "### Discrete transfer function\n",
    "Computing the discrete transfer function using Tustin's method (bilinear transform), set $s = \\frac{2}{\\Delta t} \\left( \\frac{1-z^{-1}}{1+z^{-1}} \\right)$, so\n",
    "\\begin{align*} \n",
    "H(z)  &=\\frac{(\\omega_0/Q) \\left( \\frac{2}{\\Delta t} \\frac{1-z^{-1}}{1+z^{-1}} \\right) }{ \\left( \\frac{2}{\\Delta t} \\frac{1-z^{-1}}{1+z^{-1}} \\right)^2 + (\\omega_0/Q)  \\left( \\frac{2}{\\Delta t} \\frac{1-z^{-1}}{1+z^{-1}} \\right) + \\omega_0^2} \n",
    "\\\\ &= \\frac{ (2 \\Delta t \\omega_0 /Q) + (- 2 \\Delta t \\omega_0 /Q ) z^{-2} }{(\\Delta t^2 \\omega_0^2 + 2 \\Delta t \\omega_0/Q + 4) + ( 2\\Delta t^2 \\omega_0^2  - 8 )z^{-1} + (\\Delta t^2 \\omega_0^2 -2 \\Delta t \\omega_0/Q + 4)z^{-2} }\n",
    " \\end{align*}\n",
    " \n",
    "Set $\\alpha = \\omega_0 \\Delta t $\n",
    "\\begin{align*} \n",
    "H(z) &= \\frac{ (2 \\alpha /Q) + (- 2 \\alpha /Q ) z^{-2} }{(\\alpha^2 + 2 \\alpha/Q + 4) + ( 2\\alpha^2  - 8 )z^{-1} + (\\alpha^2 -2 \\Delta t \\omega_0/Q + 4)z^{-2} }\n",
    " \\end{align*}\n",
    "\n",
    "We want to find the filter coefficients for the discrete update:\n",
    "$$y[n] = a_1 y[n-1] + a_2 y[n-2] + ... + b_0 x[n] + b_1 x[n-1] + ...$$\n",
    "\n",
    "The coefficients can be taken directly from the discrete transfer function of the filter in the form:\n",
    "$$H(z) = \\frac{b_0 + b_1 z^{-1} + b_2 z^{-2} + \\ldots}{1 - a_1 z^{-1} - a_2 z^{-2} + \\ldots}$$\n",
    "\n",
    "Set $D = \\alpha^2 + 2 \\alpha/Q + 4$, then\n",
    "Setting $\\alpha = \\alpha^2 + 2 \\alpha/Q + 4$, the transfer function is\n",
    "\\begin{align*} \n",
    "H(z) &= \\frac{ (2 \\alpha /(QD)) + (- 2 \\alpha /(QD) ) z^{-2} }{1+ ( 2\\alpha^2  - 8 )/D z^{-1} + (\\alpha^2 -2 \\alpha/Q + 4)/D z^{-2} }\n",
    " \\end{align*}\n",
    " So the coefficients are\n",
    "\n",
    "\n",
    "\n",
    "$$ b_0 = \\frac{2 \\alpha}{QD}\\quad b_1 = 0 \\quad  b_2 = - \\frac{2 \\alpha}{QD} \\quad \\text{and} \\quad a_1 = - \\frac{ 2\\alpha^2  - 8 }{D} \\quad a_2 = - \\frac{\\alpha^2 - 2\\alpha/Q + 4 }{D} $$\n",
    "\n",
    "### Arduino code\n",
    "On the arduino code, we compute the coefficients as\n",
    "\n",
    "<pre>\n",
    "float alpha = omega0*dt;\n",
    "Q = omega0/domega;\n",
    "float D = pow(alpha,2) + 2*alpha/Q + 4;\n",
    "b[0] = 2*alpha/(Q*D);\n",
    "b[1] = -b[0];\n",
    "a[0] = -(2*pow(alpha,2) - 8)/D;\n",
    "a[1] = -(pow(alpha,2) - 2*alpha/Q + 4)/D;\n",
    "</pre>"
   ]
  },
  {
   "cell_type": "code",
   "execution_count": 12,
   "id": "af26acf5",
   "metadata": {},
   "outputs": [
    {
     "name": "stdout",
     "output_type": "stream",
     "text": [
      "[0.05862741732593571, 0, -0.05862741732593571]\n",
      "[0, 1.8495921419055101, -0.8827451653481285]\n"
     ]
    }
   ],
   "source": [
    "# Example coefficients for testing\n",
    "dt = 1/1.0e3;\n",
    "omega0 = 30*2*np.pi;\n",
    "domega = 2.0*np.pi*20.0;          # Width of the band (rad/s)\n",
    "alpha = omega0*dt;\n",
    "Q = omega0/domega;\n",
    "D = pow(alpha,2) + 2*alpha/Q + 4;\n",
    "a = [0,0,0];\n",
    "b = [0,0,0];\n",
    "b[0] = 2*alpha/(Q*D);\n",
    "b[2] = -b[0];\n",
    "a[0] = 0;\n",
    "a[1] = -(2*pow(alpha,2) - 8)/D;\n",
    "a[2] = -(pow(alpha,2) - 2*alpha/Q + 4)/D;\n",
    "\n",
    "print(b)\n",
    "print(a)"
   ]
  },
  {
   "cell_type": "markdown",
   "id": "e404b4a6",
   "metadata": {},
   "source": [
    "<hr>"
   ]
  }
 ],
 "metadata": {
  "kernelspec": {
   "display_name": "Python 3",
   "language": "python",
   "name": "python3"
  },
  "language_info": {
   "codemirror_mode": {
    "name": "ipython",
    "version": 3
   },
   "file_extension": ".py",
   "mimetype": "text/x-python",
   "name": "python",
   "nbconvert_exporter": "python",
   "pygments_lexer": "ipython3",
   "version": "3.6.8"
  }
 },
 "nbformat": 4,
 "nbformat_minor": 5
}

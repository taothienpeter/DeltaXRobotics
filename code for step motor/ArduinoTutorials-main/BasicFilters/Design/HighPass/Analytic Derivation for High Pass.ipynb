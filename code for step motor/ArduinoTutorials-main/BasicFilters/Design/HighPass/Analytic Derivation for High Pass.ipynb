{
 "cells": [
  {
   "cell_type": "code",
   "execution_count": 1,
   "id": "4332923b",
   "metadata": {},
   "outputs": [],
   "source": [
    "import numpy as np"
   ]
  },
  {
   "cell_type": "markdown",
   "id": "b97efa53",
   "metadata": {},
   "source": [
    "## First order high-pass filter\n",
    "\n",
    "### Continuous transfer function\n",
    "The high-pass filter transfer function is\n",
    "$$H(s) = \\frac{s}{s + \\omega_0}$$\n",
    "\n",
    "### Discrete transfer function\n",
    "Computing the discrete transfer function using Tustin's method (bilinear transform), set $s = \\frac{2}{\\Delta t} \\left( \\frac{1-z^{-1}}{1+z^{-1}} \\right)$, so\n",
    "\\begin{align*} \n",
    "H(z) &= \\frac{ \\frac{2}{\\Delta t} \\frac{1-z^{-1}}{1+z^{-1}} }{\\frac{2}{\\Delta t} \\frac{1-z^{-1}}{1+z^{-1}}  + \\omega_0} \\\\\n",
    "     &= \\frac{1 + (-1)z^{-1}}{(1 + \\frac{\\Delta t \\omega_0}{2}) + ( \\frac{\\Delta t \\omega_0}{2} - 1) z^{-1} }\n",
    " \\end{align*}\n",
    "\n",
    "\n",
    "We want to find the filter coefficients for the discrete update:\n",
    "$$y[n] = a_1 y[n-1] + a_2 y[n-2] + ... + b_0 x[n] + b_1 x[n-1] + ...$$\n",
    "\n",
    "The coefficients can be taken directly from the discrete transfer function of the filter in the form:\n",
    "$$H(z) = \\frac{b_0 + b_1 z^{-1} + b_2 z^{-2} + \\ldots}{1 - a_1 z^{-1} - a_2 z^{-2} + \\ldots}$$\n",
    "\n",
    "Setting $\\alpha = \\omega_0 \\Delta t$, the transfer function is\n",
    "\\begin{align*} \n",
    "H(z) &= \\frac{1 + (-1)z^{-1}}{(1 + \\alpha/2) + ( \\alpha/2 - 1) z^{-1} } \\\\\n",
    "  &= \\frac{1/(1 + \\alpha/2) + [-1/(1 + \\alpha/2)]z^{-1}}{ 1 + ( \\alpha/2 - 1)/(1 + \\alpha/2) z^{-1} }\n",
    " \\end{align*}\n",
    "\n",
    "\n",
    "$$ b_0 = \\frac{1}{1 + \\alpha /2}\\quad  b_1 = - \\frac{1}{1 + \\alpha /2} \\quad \\text{and} \\quad a_1 = - \\frac{ \\alpha/2 - 1}{1 + \\alpha/2} $$\n",
    "\n",
    "### Arduino code\n",
    "On the arduino code, we compute the coefficients as\n",
    "\n",
    "<pre>\n",
    "float alpha = omega0*dt;\n",
    "float alphaFactor = 1/(1 + alpha/2.0);\n",
    "a[0] = -(alpha/2.0 - 1)*alphaFactor;\n",
    "b[0] = alphaFactor;\n",
    "b[1] = -alphaFactor;        \n",
    "</pre>"
   ]
  },
  {
   "cell_type": "code",
   "execution_count": 2,
   "id": "af26acf5",
   "metadata": {},
   "outputs": [
    {
     "name": "stdout",
     "output_type": "stream",
     "text": [
      "[0.9138698004564532, -0.9138698004564532]\n",
      "[0.8277396009129062]\n"
     ]
    }
   ],
   "source": [
    "# Example coefficients for testing\n",
    "dt = 1/1.0e3;\n",
    "omega0 = 30*2*np.pi;\n",
    "alpha = omega0*dt;\n",
    "a = [0];\n",
    "b = [0,0];\n",
    "alpha = omega0*dt;\n",
    "alphaFactor = 1/(1 + alpha/2.0);\n",
    "a[0] = -(alpha/2.0 - 1)*alphaFactor;\n",
    "b[0] = alphaFactor;\n",
    "b[1] = -alphaFactor;  \n",
    "\n",
    "print(b)\n",
    "print(a)"
   ]
  },
  {
   "cell_type": "markdown",
   "id": "e404b4a6",
   "metadata": {},
   "source": [
    "<hr>"
   ]
  },
  {
   "cell_type": "markdown",
   "id": "00d538f3",
   "metadata": {},
   "source": [
    "## Second order high-pass Butterworth filter\n",
    "\n",
    "### Continuous transfer function\n",
    "\n",
    "The $n^{\\text{th}}$ Butterworth low-pass filter transfer function with $\\omega_c = 1$ can be written as (see https://en.wikipedia.org/wiki/Butterworth_filter)\n",
    "$$H(s) = \\frac{1}{\\sum_0^{n} \\beta_k s^k}$$\n",
    "where $n$ is the order of the filter. The coefficients are given by the recursion formula:\n",
    "$$\\beta_{k+1} = \\frac{\\cos( k \\gamma )}{\\sin((k+1)\\gamma)} \\beta_k$$\n",
    "with $\\beta_0 = 1$ and $\\gamma = \\frac{\\pi}{2n}$.\n",
    "\n",
    "The $n^{\\text{th}}$ order high-pass Butterworth filter can be written as \n",
    "$$H(s) = \\frac{s^n}{\\sum_0^{n} c_{j} s^{j}}$$\n",
    "with \n",
    " $c_j = \\beta_{n-j} {\\omega_c}^{n-j}$\n",
    " \n",
    "This implies that a second order filter is:\n",
    "$$H(s) = \\frac{s^2}{ c_0 + c_1 s + c_2 s^2}$$ \n",
    "with  $c_j = \\beta_{2-j} {\\omega_c}^{2-j}$. Using the recursion formula with $n = 2$, the Butterworth coefficients are:\n",
    "$$\\beta_0 = 1 \\qquad \\beta_1 = \\sqrt{2} \\qquad \\beta_2 =  1$$\n",
    "\n",
    "### Discrete transfer function\n",
    "\n",
    "Computing the discrete transfer function using Tustin's method (bilinear transform), set $s = \\frac{2}{\\Delta t} \\left( \\frac{1-z^{-1}}{1+z^{-1}} \\right)$, so\n",
    "\n",
    "\\begin{align*} \n",
    "H(z) &=\\frac{\\left[ \\frac{2}{\\Delta t} \\left( \\frac{1-z^{-1}}{1+z^{-1}} \\right) \\right]^2}{ c_0 + c_1 \\left[ \\frac{2}{\\Delta t} \\left( \\frac{1-z^{-1}}{1+z^{-1}} \\right) \\right] + c_2 \\left[ \\frac{2}{\\Delta t} \\left( \\frac{1-z^{-1}}{1+z^{-1}} \\right) \\right]^2} \\\\\n",
    "     &= \\frac{ 4 ( 1 - z^{-1})^2 }{(1 - z^{-1})^2 \\Delta t^2 c_0 + 2 c_1 \\Delta t (1-z^{-1})(1+z^{-1}) + 4 c_2 (1-z^{-1})^2 } \\\\\n",
    "    &= \\frac{4 - 8 z^{-1} + 4 z^{-2}}{ (c_0 \\Delta t^2 + 2 c_1 \\Delta t + 4 c_2) + (2 c_0 \\Delta t^2 - 8 c_2) z^{-1} + (c_0 \\Delta t^2 - 2 c_1 \\Delta t  + 4 c_2 )z^{-2} }\n",
    " \\end{align*}\n",
    "Setting $D = c_0 \\Delta t^2 + 2 c_1 \\Delta t + 4 c_2$, this is\n",
    "\n",
    "$$ H(z) = \\frac{4/D + (-8/D) z^{-1} + (4/D) z^{-2}}{ 1 + [(2 c_0 \\Delta t^2 - 8 c_2)/D] z^{-1} + [(c_0 \\Delta t^2 - 2 c_1 \\Delta t  + 4 c_2 )/D] z^{-2} } $$\n",
    "\n",
    "\n",
    "We want to find the filter coefficients for the discrete update:\n",
    "$$y[n] = a_1 y[n-1] +a_2 y[n-2] + ... + b_0 x[n] + b_1 x[n-1] + ...$$\n",
    "\n",
    "The coefficients can be taken directly from the discrete transfer function of the filter in the form:\n",
    "$$H(z) = \\frac{b_0 + b_1 z^{-1} + b_2 z^{-2} + \\ldots}{1 - a_1 z^{-1} - a_2 z^{-2} + \\ldots}$$\n",
    "\n",
    "So the discrete update coefficients are\n",
    "\n",
    "$$ b_0 = 4/D \\quad b_1 = -8/D \\quad b_2 = 4/D $$\n",
    "\n",
    "$$ a_1 = -(2 c_0 \\Delta t^2 - 8 c_2)/D \\quad a_2 = -(c_0 \\Delta t^2 - 2 c_1 \\Delta t  + 4 c_2 )/D $$\n",
    "\n",
    "Where $\\{c_i\\} = \\{ \\omega_c^2 , \\sqrt{2} \\omega_c, 1 \\}$\n",
    "\n",
    "### Arduino code\n",
    "On the arduino code, we compute the coefficients as\n",
    "\n",
    "<pre>\n",
    "float alpha = omega0*dt;\n",
    "float dtSq = dt*dt;\n",
    "float c[] = {omega0*omega0, sqrt(2)*omega0, 1};\n",
    "float D = c[0]*dtSq + 2*c[1]*dt + 4*c[2];\n",
    "\n",
    "b[0] = 4.0/D;\n",
    "b[1] = -8.0/D;\n",
    "b[2] = 4.0/D;\n",
    "\n",
    "a[0] = -(2*c[0]*dtSq - 8*c[2])/D;\n",
    "a[1] = -(c[0]*dtSq - 2*c[1]*dt + 4*c[2])/D;\n",
    "</pre>"
   ]
  },
  {
   "cell_type": "code",
   "execution_count": 3,
   "id": "27950ef3",
   "metadata": {},
   "outputs": [
    {
     "name": "stdout",
     "output_type": "stream",
     "text": [
      "[0.9150759211230759, -1.8301518422461518, 0.9150759211230759]\n",
      "[1.822926692375394, -0.8373769921169094]\n"
     ]
    }
   ],
   "source": [
    "# Example coefficients for testing\n",
    "dt = 1/1.0e3;\n",
    "omega0 = 20*2*np.pi;\n",
    "alpha = omega0*dt;\n",
    "dtSq = dt*dt;\n",
    "c= [omega0*omega0, np.sqrt(2)*omega0, 1];\n",
    "D = c[0]*dtSq + 2*c[1]*dt + 4*c[2];\n",
    "\n",
    "b = [0,0,0]\n",
    "b[0] = 4.0/D;\n",
    "b[1] = -8.0/D;\n",
    "b[2] = 4.0/D;\n",
    "\n",
    "a = [0,0]\n",
    "a[0] = -(2*c[0]*dtSq - 8*c[2])/D;\n",
    "a[1] = -(c[0]*dtSq - 2*c[1]*dt + 4*c[2])/D;\n",
    "\n",
    "print(b)\n",
    "print(a)"
   ]
  }
 ],
 "metadata": {
  "kernelspec": {
   "display_name": "Python 3",
   "language": "python",
   "name": "python3"
  },
  "language_info": {
   "codemirror_mode": {
    "name": "ipython",
    "version": 3
   },
   "file_extension": ".py",
   "mimetype": "text/x-python",
   "name": "python",
   "nbconvert_exporter": "python",
   "pygments_lexer": "ipython3",
   "version": "3.6.8"
  }
 },
 "nbformat": 4,
 "nbformat_minor": 5
}
